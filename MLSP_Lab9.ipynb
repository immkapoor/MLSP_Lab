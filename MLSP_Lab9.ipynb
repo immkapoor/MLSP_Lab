{
 "cells": [
  {
   "cell_type": "markdown",
   "id": "aafa96d2",
   "metadata": {},
   "source": [
    "mean filtering, and median filtering"
   ]
  },
  {
   "cell_type": "code",
   "execution_count": 1,
   "id": "089ff365",
   "metadata": {},
   "outputs": [],
   "source": [
    "import cv2\n",
    "import numpy as np\n"
   ]
  },
  {
   "cell_type": "code",
   "execution_count": 2,
   "id": "9930a841",
   "metadata": {},
   "outputs": [],
   "source": [
    "video_path = 'highway.mp4' \n",
    "cap = cv2.VideoCapture(video_path)"
   ]
  },
  {
   "cell_type": "code",
   "execution_count": 3,
   "id": "56ebcb29",
   "metadata": {},
   "outputs": [],
   "source": [
    "if not cap.isOpened():\n",
    "    print(\"Error: Could not open video.\")\n",
    "    exit()"
   ]
  },
  {
   "cell_type": "code",
   "execution_count": null,
   "id": "f38a4aa1",
   "metadata": {},
   "outputs": [],
   "source": [
    "cv2.namedWindow('Foreground mask', cv2.WINDOW_NORMAL)"
   ]
  },
  {
   "cell_type": "code",
   "execution_count": null,
   "id": "834817e4",
   "metadata": {},
   "outputs": [],
   "source": [
    "average_frame = np.float32(frame)"
   ]
  },
  {
   "cell_type": "code",
   "execution_count": null,
   "id": "b47ec410",
   "metadata": {},
   "outputs": [],
   "source": [
    "while cap.isOpened():\n",
    "    ret, frame = cap.read()\n",
    "    if not ret:\n",
    "        break\n",
    "    cv2.accumulateWeighted(frame, average_frame, 0.01)\n",
    "    background_frame = cv2.convertScaleAbs(average_frame)\n",
    "    foreground_mask = cv2.absdiff(frame, background_frame)\n",
    "    gray_foreground = cv2.cvtColor(foreground_mask, cv2.COLOR_BGR2GRAY)\n",
    "    _, binary_mask = cv2.threshold(gray_foreground, 50, 255, cv2.THRESH_BINARY)\n",
    "\n",
    "    kernel = cv2.getStructuringElement(cv2.MORPH_ELLIPSE, (5, 5))\n",
    "    binary_mask = cv2.morphologyEx(binary_mask, cv2.MORPH_CLOSE, kernel)\n",
    "    binary_mask = cv2.morphologyEx(binary_mask, cv2.MORPH_OPEN, kernel)\n",
    "\n",
    "    segmented_frame = cv2.bitwise_and(frame, frame, mask=binary_mask)\n",
    "\n",
    "    cv2.imshow('Foreground Detection', segmented_frame)\n",
    "\n",
    "    if cv2.waitKey(30) & 0xFF == ord('q'):\n",
    "        break\n"
   ]
  },
  {
   "cell_type": "code",
   "execution_count": null,
   "id": "909a2201",
   "metadata": {},
   "outputs": [],
   "source": [
    "cap.release()\n",
    "cv2.destroyAllWindows()"
   ]
  },
  {
   "cell_type": "markdown",
   "id": "3074aaa6",
   "metadata": {},
   "source": [
    "Median Filtering"
   ]
  },
  {
   "cell_type": "code",
   "execution_count": 4,
   "id": "a076a129",
   "metadata": {},
   "outputs": [],
   "source": [
    "from collections import deque"
   ]
  },
  {
   "cell_type": "code",
   "execution_count": 5,
   "id": "4fa7454c",
   "metadata": {},
   "outputs": [],
   "source": [
    "history_length = 10  \n",
    "threshold_value = 50 "
   ]
  },
  {
   "cell_type": "code",
   "execution_count": 6,
   "id": "f0fdc674",
   "metadata": {},
   "outputs": [],
   "source": [
    "frame_history = deque(maxlen=history_length)"
   ]
  },
  {
   "cell_type": "code",
   "execution_count": 7,
   "id": "a934c4e2",
   "metadata": {},
   "outputs": [],
   "source": [
    "cv2.namedWindow('Foreground Detection', cv2.WINDOW_NORMAL)"
   ]
  },
  {
   "cell_type": "code",
   "execution_count": 8,
   "id": "0d9708fa",
   "metadata": {},
   "outputs": [],
   "source": [
    "while cap.isOpened():\n",
    "    ret, frame = cap.read()\n",
    "\n",
    "    if not ret:\n",
    "        break\n",
    "\n",
    "    frame_history.append(frame)\n",
    "\n",
    "    if len(frame_history) == history_length:\n",
    "        frames_array = np.array(frame_history)\n",
    "\n",
    "        median_frame = np.median(frames_array, axis=0).astype(dtype=np.uint8)\n",
    "\n",
    "        foreground_mask = cv2.absdiff(frame, median_frame)\n",
    "\n",
    "        gray_foreground = cv2.cvtColor(foreground_mask, cv2.COLOR_BGR2GRAY)\n",
    "\n",
    "        _, binary_mask = cv2.threshold(gray_foreground, threshold_value, 255, cv2.THRESH_BINARY)\n",
    "\n",
    "        kernel = cv2.getStructuringElement(cv2.MORPH_ELLIPSE, (5, 5))\n",
    "        binary_mask = cv2.morphologyEx(binary_mask, cv2.MORPH_CLOSE, kernel)\n",
    "        binary_mask = cv2.morphologyEx(binary_mask, cv2.MORPH_OPEN, kernel)\n",
    "\n",
    "        segmented_frame = cv2.bitwise_and(frame, frame, mask=binary_mask)\n",
    "\n",
    "        cv2.imshow('Foreground Detection', segmented_frame)\n",
    "\n",
    "    if cv2.waitKey(30) & 0xFF == ord('q'):\n",
    "        break"
   ]
  },
  {
   "cell_type": "code",
   "execution_count": 9,
   "id": "1d5cc020",
   "metadata": {},
   "outputs": [],
   "source": [
    "cap.release()\n",
    "cv2.destroyAllWindows()"
   ]
  },
  {
   "cell_type": "code",
   "execution_count": null,
   "id": "acd82fa6",
   "metadata": {},
   "outputs": [],
   "source": []
  }
 ],
 "metadata": {
  "kernelspec": {
   "display_name": "Python 3",
   "language": "python",
   "name": "python3"
  },
  "language_info": {
   "codemirror_mode": {
    "name": "ipython",
    "version": 3
   },
   "file_extension": ".py",
   "mimetype": "text/x-python",
   "name": "python",
   "nbconvert_exporter": "python",
   "pygments_lexer": "ipython3",
   "version": "3.7.12"
  }
 },
 "nbformat": 4,
 "nbformat_minor": 5
}
