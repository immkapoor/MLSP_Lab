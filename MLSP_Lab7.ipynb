{
 "cells": [
  {
   "cell_type": "code",
   "execution_count": 22,
   "id": "7cd904a2",
   "metadata": {},
   "outputs": [],
   "source": [
    "import cv2\n",
    "import numpy as np"
   ]
  },
  {
   "cell_type": "code",
   "execution_count": 2,
   "id": "d35c7dc0",
   "metadata": {},
   "outputs": [],
   "source": [
    "def histogram_block_matching(target_img, template_hist, block_size, stride, threshold):\n",
    "    target_gray = cv2.cvtColor(target_img, cv2.COLOR_BGR2GRAY)\n",
    "    target_height, target_width = target_gray.shape\n",
    "    potential_locations = []\n",
    "    for y in range(0, target_height - block_size[0] + 1, stride):\n",
    "        for x in range(0, target_width - block_size[1] + 1, stride):\n",
    "            block = target_gray[y:y+block_size[0], x:x+block_size[1]]\n",
    "            \n",
    "            block_hist = cv2.calcHist([block], [0], None, [256], [0, 256])\n",
    "            block_hist = cv2.normalize(block_hist, block_hist, 0, 1, cv2.NORM_MINMAX, -1)\n",
    "            \n",
    "            match_score = cv2.compareHist(block_hist, template_hist, cv2.HISTCMP_BHATTACHARYYA)\n",
    "            if match_score < threshold:\n",
    "                potential_locations.append((x, y))\n",
    "    \n",
    "    return potential_locations"
   ]
  },
  {
   "cell_type": "code",
   "execution_count": 23,
   "id": "1ea57cb9",
   "metadata": {},
   "outputs": [],
   "source": [
    "target_img = cv2.imread(\"current_frame.jpg\")\n",
    "template_img = cv2.imread(\"car_template.jpg\")"
   ]
  },
  {
   "cell_type": "code",
   "execution_count": 24,
   "id": "7144ea47",
   "metadata": {},
   "outputs": [],
   "source": [
    "template_gray = cv2.cvtColor(template_img, cv2.COLOR_BGR2GRAY)"
   ]
  },
  {
   "cell_type": "code",
   "execution_count": 25,
   "id": "9a483ed6",
   "metadata": {},
   "outputs": [],
   "source": [
    "template_hist = cv2.calcHist([template_gray], [0], None, [256], [0, 256])\n",
    "template_hist = cv2.normalize(template_hist, template_hist, 0, 1, cv2.NORM_MINMAX, -1)\n"
   ]
  },
  {
   "cell_type": "code",
   "execution_count": 27,
   "id": "403e5174",
   "metadata": {},
   "outputs": [],
   "source": [
    "block_size = (template_img.shape[0], template_img.shape[1])  # Use template size as block size\n",
    "stride = 50  # Adjust as needed\n"
   ]
  },
  {
   "cell_type": "code",
   "execution_count": 28,
   "id": "2804fd23",
   "metadata": {},
   "outputs": [],
   "source": [
    "threshold = 0.5"
   ]
  },
  {
   "cell_type": "code",
   "execution_count": 29,
   "id": "98f7bca8",
   "metadata": {},
   "outputs": [],
   "source": [
    "potential_locations =[]"
   ]
  },
  {
   "cell_type": "code",
   "execution_count": 30,
   "id": "dd7b4a46",
   "metadata": {},
   "outputs": [],
   "source": [
    "potential_locations = histogram_block_matching(target_img, template_hist, block_size, stride, threshold)"
   ]
  },
  {
   "cell_type": "code",
   "execution_count": 32,
   "id": "ecd4ab4a",
   "metadata": {},
   "outputs": [],
   "source": [
    "for loc in potential_locations:\n",
    "    x, y = loc\n",
    "    cv2.rectangle(target_img, (x, y), (x + block_size[1], y + block_size[0]), (0, 255, 0), 2)\n"
   ]
  },
  {
   "cell_type": "code",
   "execution_count": 34,
   "id": "2c6f3d2b",
   "metadata": {},
   "outputs": [],
   "source": [
    "# Display result\n",
    "cv2.imshow(\"Object Detection\", target_img)\n",
    "cv2.waitKey(0)\n",
    "cv2.destroyAllWindows()"
   ]
  },
  {
   "cell_type": "markdown",
   "id": "755bf8ac",
   "metadata": {},
   "source": [
    "Potential to improve: Apply NMS thresholding to supress the bounding boxes with lower probabilities"
   ]
  },
  {
   "cell_type": "code",
   "execution_count": 38,
   "id": "8142b91e",
   "metadata": {},
   "outputs": [],
   "source": [
    "def covariance_object_detection(target_img, template_covariance, window_size):\n",
    "    # Convert target image to grayscale\n",
    "    target_gray = cv2.cvtColor(target_img, cv2.COLOR_BGR2GRAY)\n",
    "    \n",
    "    # Calculate the covariance matrix of image patches using sliding window\n",
    "    rows, cols = target_gray.shape\n",
    "    detection_map = np.zeros((rows - window_size[0] + 1, cols - window_size[1] + 1))\n",
    "\n",
    "    for i in range(rows - window_size[0] + 1):\n",
    "        for j in range(cols - window_size[1] + 1):\n",
    "            window = target_gray[i:i+window_size[0], j:j+window_size[1]]\n",
    "            window_covariance = np.cov(window)\n",
    "            distance = np.linalg.norm(np.subtract(window_covariance, template_covariance))\n",
    "            detection_map[i, j] = distance\n",
    "    \n",
    "    return detection_map"
   ]
  },
  {
   "cell_type": "code",
   "execution_count": 39,
   "id": "d231f27a",
   "metadata": {},
   "outputs": [],
   "source": [
    "template_covariance = np.cov(template_gray)"
   ]
  },
  {
   "cell_type": "code",
   "execution_count": 40,
   "id": "78a82905",
   "metadata": {},
   "outputs": [],
   "source": [
    "window_size = (template_img.shape[0], template_img.shape[1]) "
   ]
  },
  {
   "cell_type": "code",
   "execution_count": 41,
   "id": "2b7c9879",
   "metadata": {},
   "outputs": [],
   "source": [
    "detection_map = covariance_object_detection(target_img, template_covariance, window_size)"
   ]
  },
  {
   "cell_type": "code",
   "execution_count": 42,
   "id": "795d9c88",
   "metadata": {},
   "outputs": [],
   "source": [
    "detection_map = (detection_map - np.min(detection_map)) / (np.max(detection_map) - np.min(detection_map))"
   ]
  },
  {
   "cell_type": "code",
   "execution_count": 17,
   "id": "c4fe0ceb",
   "metadata": {},
   "outputs": [
    {
     "data": {
      "text/plain": [
       "array([[0.48603406, 0.4865614 , 0.48718375, ..., 0.44369342, 0.43942709,\n",
       "        0.43576579],\n",
       "       [0.48724805, 0.48777529, 0.48847326, ..., 0.4208755 , 0.41790148,\n",
       "        0.41608362],\n",
       "       [0.48666385, 0.48690614, 0.48757949, ..., 0.42126419, 0.41751433,\n",
       "        0.4150783 ],\n",
       "       ...,\n",
       "       [0.45938729, 0.4592682 , 0.45960282, ..., 0.56425155, 0.55825641,\n",
       "        0.55404204],\n",
       "       [0.46064577, 0.46052971, 0.46072158, ..., 0.57206962, 0.56638107,\n",
       "        0.56215495],\n",
       "       [0.46370382, 0.46378057, 0.46408007, ..., 0.57727978, 0.57187364,\n",
       "        0.56754839]])"
      ]
     },
     "execution_count": 17,
     "metadata": {},
     "output_type": "execute_result"
    }
   ],
   "source": [
    "detection_map"
   ]
  },
  {
   "cell_type": "code",
   "execution_count": 43,
   "id": "ddd4bbe6",
   "metadata": {},
   "outputs": [],
   "source": [
    "threshold = 0.8# Adjust threshold as needed\n",
    "potential_locations = np.where(detection_map > threshold)"
   ]
  },
  {
   "cell_type": "code",
   "execution_count": 44,
   "id": "cceebcb3",
   "metadata": {},
   "outputs": [
    {
     "data": {
      "text/plain": [
       "(array([ 28,  28,  28, ..., 187, 187, 187]),\n",
       " array([117, 118, 119, ..., 239, 240, 241]))"
      ]
     },
     "execution_count": 44,
     "metadata": {},
     "output_type": "execute_result"
    }
   ],
   "source": [
    "potential_locations "
   ]
  },
  {
   "cell_type": "code",
   "execution_count": 45,
   "id": "52b2a26e",
   "metadata": {},
   "outputs": [],
   "source": [
    "# Visualize potential object locations\n",
    "for i, j in zip(*potential_locations):\n",
    "    cv2.rectangle(target_img, (j, i), (j + window_size[1], i + window_size[0]), (0, 255, 0), 2)\n"
   ]
  },
  {
   "cell_type": "code",
   "execution_count": 46,
   "id": "3997991f",
   "metadata": {},
   "outputs": [],
   "source": [
    "cv2.imshow(\"Object Detection\", target_img)\n",
    "cv2.waitKey(0)\n",
    "cv2.destroyAllWindows()"
   ]
  },
  {
   "cell_type": "code",
   "execution_count": null,
   "id": "3039bc8d",
   "metadata": {},
   "outputs": [],
   "source": []
  }
 ],
 "metadata": {
  "kernelspec": {
   "display_name": "Python 3",
   "language": "python",
   "name": "python3"
  },
  "language_info": {
   "codemirror_mode": {
    "name": "ipython",
    "version": 3
   },
   "file_extension": ".py",
   "mimetype": "text/x-python",
   "name": "python",
   "nbconvert_exporter": "python",
   "pygments_lexer": "ipython3",
   "version": "3.7.12"
  }
 },
 "nbformat": 4,
 "nbformat_minor": 5
}
