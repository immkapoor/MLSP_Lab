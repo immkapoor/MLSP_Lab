{
 "cells": [
  {
   "cell_type": "code",
   "execution_count": 1,
   "metadata": {
    "id": "mrvuOBWIBU0Q"
   },
   "outputs": [],
   "source": [
    "# from google.colab.patches import cv2_imshow\n",
    "import cv2"
   ]
  },
  {
   "cell_type": "code",
   "execution_count": 2,
   "metadata": {
    "id": "AJ1EzGiPBmAs"
   },
   "outputs": [],
   "source": [
    "# Initialize video capture\n",
    "cap = cv2.VideoCapture(\"highway.mp4\")"
   ]
  },
  {
   "cell_type": "code",
   "execution_count": 3,
   "metadata": {
    "id": "naeOSHkTEBG8"
   },
   "outputs": [],
   "source": [
    "frame_width = int(cap.get(cv2.CAP_PROP_FRAME_WIDTH))\n",
    "frame_height = int(cap.get(cv2.CAP_PROP_FRAME_HEIGHT))"
   ]
  },
  {
   "cell_type": "code",
   "execution_count": 4,
   "metadata": {
    "id": "7W69TGDUFJWY"
   },
   "outputs": [],
   "source": [
    "output_video = cv2.VideoWriter('output.mp4', cv2.VideoWriter_fourcc(*'mp4v'), 30, (frame_width, frame_height))"
   ]
  },
  {
   "cell_type": "code",
   "execution_count": 5,
   "metadata": {
    "id": "XL7_stYTBrVZ"
   },
   "outputs": [],
   "source": [
    "ret, previous_frame = cap.read()"
   ]
  },
  {
   "cell_type": "code",
   "execution_count": 6,
   "metadata": {
    "colab": {
     "base_uri": "https://localhost:8080/",
     "height": 1000
    },
    "id": "us7df5YhEqHk",
    "outputId": "82b13088-d9d9-499a-c79f-b13055c17dc6"
   },
   "outputs": [],
   "source": [
    "while True:\n",
    "    # Read the next frame\n",
    "    ret, frame = cap.read()\n",
    "\n",
    "    # Check if the frame was successfully read\n",
    "    if not ret:\n",
    "        break\n",
    "\n",
    "    # Convert frames to grayscale\n",
    "    current_frame = cv2.cvtColor(frame, cv2.COLOR_BGR2GRAY)\n",
    "    previous_frame_gray = cv2.cvtColor(previous_frame, cv2.COLOR_BGR2GRAY)\n",
    "\n",
    "    # Compute the absolute difference between the current and previous frames\n",
    "    frame_diff = cv2.absdiff(current_frame, previous_frame_gray)\n",
    "\n",
    "    # Write the processed frame to the output video\n",
    "    output_video.write(frame_diff)\n",
    "    \n",
    "    # Display the processed frame\n",
    "    cv2.imshow('Result',frame_diff)\n",
    "#     cv2_imshow(frame_diff)\n",
    "\n",
    "    # Update the previous frame\n",
    "    previous_frame = frame.copy()\n",
    "\n",
    "    # Check for key press\n",
    "    if cv2.waitKey(30) & 0xFF == ord('q'):\n",
    "        break\n",
    "\n",
    "# Release video capture and output video writer\n",
    "cap.release()\n",
    "output_video.release()\n",
    "\n",
    "# Close all OpenCV windows\n",
    "cv2.destroyAllWindows()\n"
   ]
  },
  {
   "cell_type": "code",
   "execution_count": null,
   "metadata": {
    "id": "bHZKZcpuFR2v"
   },
   "outputs": [],
   "source": []
  }
 ],
 "metadata": {
  "colab": {
   "provenance": []
  },
  "kernelspec": {
   "display_name": "Python 3",
   "language": "python",
   "name": "python3"
  },
  "language_info": {
   "codemirror_mode": {
    "name": "ipython",
    "version": 3
   },
   "file_extension": ".py",
   "mimetype": "text/x-python",
   "name": "python",
   "nbconvert_exporter": "python",
   "pygments_lexer": "ipython3",
   "version": "3.7.12"
  }
 },
 "nbformat": 4,
 "nbformat_minor": 1
}
