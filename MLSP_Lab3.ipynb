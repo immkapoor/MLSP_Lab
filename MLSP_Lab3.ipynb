{
 "cells": [
  {
   "cell_type": "markdown",
   "metadata": {
    "id": "XRAOfNVT_xOm"
   },
   "source": [
    " SURF (Speeded-Up Robust Features)"
   ]
  },
  {
   "cell_type": "code",
   "execution_count": 1,
   "metadata": {
    "id": "j7245xY8B391"
   },
   "outputs": [],
   "source": [
    "import numpy as np\n",
    "import cv2\n",
    "from scipy.ndimage import convolve\n",
    "import matplotlib.pyplot as plt\n"
   ]
  },
  {
   "cell_type": "markdown",
   "metadata": {
    "id": "M2VHxeHI2-Ex"
   },
   "source": [
    "Corners are the important features in the image, and they are generally termed as interest points which are invariant to translation, rotation, and illumination"
   ]
  },
  {
   "cell_type": "markdown",
   "metadata": {
    "id": "0NwWO5Pp3Jsz"
   },
   "source": [
    "1. Apply gaussian filter to smooth out the noise\n",
    "2. Apply sobel filter to find x and y gradient : detects edges and texture\n",
    "3. Hessian matrix computation"
   ]
  },
  {
   "cell_type": "code",
   "execution_count": 3,
   "metadata": {
    "id": "rzprObPtB46Y"
   },
   "outputs": [],
   "source": [
    "def surf_corner_detector_integral(image, sigma=1, threshold=0.01):\n",
    "    # Compute integral image for the input image\n",
    "    integral_image = cv2.integral(image)\n",
    "\n",
    "    # Compute derivatives using integral images\n",
    "    dx = cv2.integral(cv2.Sobel(image, cv2.CV_64F, 1, 0, ksize=3))\n",
    "    dy = cv2.integral(cv2.Sobel(image, cv2.CV_64F, 0, 1, ksize=3))\n",
    "\n",
    "    # Compute elements of the Hessian matrix\n",
    "    Ixx = convolve(dx * dx, np.ones((3, 3)))\n",
    "    Ixy = convolve(dx * dy, np.ones((3, 3)))\n",
    "    Iyy = convolve(dy * dy, np.ones((3, 3)))\n",
    "\n",
    "    # Threshold determinant to find corners\n",
    "    det_H = (Ixx * Iyy) - (Ixy ** 2)\n",
    "    corners = np.argwhere(det_H > threshold * det_H.max())\n",
    "\n",
    "    return corners"
   ]
  },
  {
   "cell_type": "markdown",
   "metadata": {
    "id": "xMFPoSCRAXqP"
   },
   "source": [
    " The Haar wavelet transform decomposes an image into a series of wavelet coefficients, which represent different frequency components of the image at various scales and orientations."
   ]
  },
  {
   "cell_type": "code",
   "execution_count": 6,
   "metadata": {
    "id": "ZJd_Fg_0COxQ"
   },
   "outputs": [],
   "source": [
    "def calculate_haar_responses(image, x, y, radius):\n",
    "    # Extract circular neighborhood around the keypoint\n",
    "    neighborhood = image[y-radius:y+radius+1, x-radius:x+radius+1]\n",
    "\n",
    "    # Compute Haar-wavelet responses\n",
    "    dx = cv2.Sobel(neighborhood, cv2.CV_64F, 1, 0, ksize=3)\n",
    "    dy = cv2.Sobel(neighborhood, cv2.CV_64F, 0, 1, ksize=3)\n",
    "\n",
    "    return dx, dy"
   ]
  },
  {
   "cell_type": "markdown",
   "metadata": {
    "id": "DwvUMN6mAhOf"
   },
   "source": [
    "Assign orientations to the detected keypoints based on the dominant gradient direction in the local neighborhood"
   ]
  },
  {
   "cell_type": "code",
   "execution_count": 8,
   "metadata": {
    "id": "LPzF5XgQCRIu"
   },
   "outputs": [],
   "source": [
    "def orientation_assignment(image, x, y, radius, orientations=6):\n",
    "    max_sum = -np.inf\n",
    "    best_orientation = 0\n",
    "    neighborhood_size = 8\n",
    "    for orientation in range(orientations):\n",
    "        angle = orientation * (np.pi / orientations)\n",
    "\n",
    "        # Compute Haar-wavelet responses\n",
    "        dx, dy = calculate_haar_responses(image, x, y, radius)\n",
    "\n",
    "        # Rotate responses\n",
    "        rotated_dx = dx * np.cos(angle) - dy * np.sin(angle)\n",
    "        rotated_dy = dx * np.sin(angle) + dy * np.cos(angle)\n",
    "\n",
    "        # Sum responses in scanning areas\n",
    "        sum_response = np.zeros((orientations,))\n",
    "        for i in range(orientations):\n",
    "            theta = i * (np.pi / orientations)\n",
    "            for j in range(neighborhood_size):\n",
    "                if rotated_dx[j, 0] * np.cos(theta) + rotated_dy[j, 0] * np.sin(theta) > 0:\n",
    "                    sum_response[i] += rotated_dx[j, 0]\n",
    "                else:\n",
    "                    sum_response[i] -= rotated_dx[j, 0]\n",
    "\n",
    "        # Check if this orientation has the maximum sum\n",
    "        if np.sum(sum_response) > max_sum:\n",
    "            max_sum = np.sum(sum_response)\n",
    "            best_orientation = orientation\n",
    "\n",
    "    return best_orientation"
   ]
  },
  {
   "cell_type": "markdown",
   "metadata": {
    "id": "_8X2bLuWAl8B"
   },
   "source": [
    "Construct square regions aligned to the selected orientation at each keypoint and extract SURF descriptors from these regions"
   ]
  },
  {
   "cell_type": "code",
   "execution_count": 11,
   "metadata": {
    "id": "Hx37hkIzCarT"
   },
   "outputs": [],
   "source": [
    "def describe_feature(image, x, y, radius, orientation, patch_size=16):\n",
    "    patch = image[y-radius:y+radius+1, x-radius:x+radius+1]\n",
    "    patch_rotated = rotate_image(patch, orientation)\n",
    "    descriptor = cv2.resize(patch_rotated, (patch_size, patch_size)).flatten()\n",
    "    return descriptor"
   ]
  },
  {
   "cell_type": "code",
   "execution_count": 12,
   "metadata": {
    "id": "qudKsoZACcHL"
   },
   "outputs": [],
   "source": [
    "def rotate_image(image, angle):\n",
    "    center = tuple(np.array(image.shape[1::-1]) / 2)\n",
    "    rotation_matrix = cv2.getRotationMatrix2D(center, angle * 30, 1.0)\n",
    "    rotated_image = cv2.warpAffine(image, rotation_matrix, image.shape[1::-1], flags=cv2.INTER_LINEAR)\n",
    "    return rotated_image"
   ]
  },
  {
   "cell_type": "code",
   "execution_count": 14,
   "metadata": {
    "id": "TSE8tAJBCeQx"
   },
   "outputs": [],
   "source": [
    "def detect_surf_features(image, threshold=0.01, patch_size=16):\n",
    "    keypoints = []\n",
    "    descriptors = []\n",
    "    radius = 6\n",
    "    orientations = 6\n",
    "    for y in range(radius, image.shape[0] - radius):\n",
    "        for x in range(radius, image.shape[1] - radius):\n",
    "            dx, dy = calculate_haar_responses(image, x, y, radius)\n",
    "            hessian_response = dx * dy\n",
    "            hessian_response_sum = np.sum(hessian_response)\n",
    "            if hessian_response_sum > threshold:\n",
    "                orientation = orientation_assignment(image, x, y, radius, orientations)\n",
    "                descriptor = describe_feature(image, x, y, radius, orientation, patch_size)\n",
    "                keypoints.append(cv2.KeyPoint(x, y, 2*radius, orientation, hessian_response_sum))\n",
    "                descriptors.append(descriptor)\n",
    "    return keypoints, descriptors\n",
    "\n"
   ]
  },
  {
   "cell_type": "code",
   "execution_count": 15,
   "metadata": {
    "id": "Ogf-HRRZ676X"
   },
   "outputs": [],
   "source": [
    "image = cv2.imread('chess.png')\n",
    "gray_image = cv2.cvtColor(image, cv2.COLOR_BGR2GRAY)"
   ]
  },
  {
   "cell_type": "code",
   "execution_count": 16,
   "metadata": {
    "id": "dwaiBYYdCg8q"
   },
   "outputs": [],
   "source": [
    "keypoints, descriptors = detect_surf_features(gray_image)"
   ]
  },
  {
   "cell_type": "code",
   "execution_count": 18,
   "metadata": {
    "id": "nseeit5165b-"
   },
   "outputs": [],
   "source": [
    "image_with_keypoints = cv2.drawKeypoints(gray_image, keypoints, 0, (0,0,255), flags = cv2.DRAW_MATCHES_FLAGS_DEFAULT)"
   ]
  },
  {
   "cell_type": "code",
   "execution_count": 19,
   "metadata": {
    "colab": {
     "base_uri": "https://localhost:8080/",
     "height": 452
    },
    "id": "oWjrXEsN_EEc",
    "outputId": "a19aa5fd-f952-4b45-f33f-6fbfafda0e18"
   },
   "outputs": [
    {
     "data": {
      "text/plain": [
       "<matplotlib.image.AxesImage at 0x7fe4e9e7a460>"
      ]
     },
     "execution_count": 19,
     "metadata": {},
     "output_type": "execute_result"
    },
    {
     "data": {
      "image/png": "[encoded data removed]",
      "text/plain": [
       "<Figure size 432x288 with 1 Axes>"
      ]
     },
     "metadata": {
      "needs_background": "light"
     },
     "output_type": "display_data"
    }
   ],
   "source": [
    "plt.imshow(image_with_keypoints)"
   ]
  },
  {
   "cell_type": "code",
   "execution_count": null,
   "metadata": {
    "id": "HzJezXxJ_LX9"
   },
   "outputs": [],
   "source": []
  }
 ],
 "metadata": {
  "colab": {
   "provenance": []
  },
  "kernelspec": {
   "display_name": "Python 3",
   "language": "python",
   "name": "python3"
  },
  "language_info": {
   "codemirror_mode": {
    "name": "ipython",
    "version": 3
   },
   "file_extension": ".py",
   "mimetype": "text/x-python",
   "name": "python",
   "nbconvert_exporter": "python",
   "pygments_lexer": "ipython3",
   "version": "3.8.10"
  }
 },
 "nbformat": 4,
 "nbformat_minor": 1
}
