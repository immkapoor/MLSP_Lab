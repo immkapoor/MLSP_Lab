{
 "cells": [
  {
   "cell_type": "markdown",
   "id": "a44c8de6",
   "metadata": {},
   "source": [
    "Histogram matching, covariance, Tensorflow/pytorch gpu usage"
   ]
  },
  {
   "cell_type": "code",
   "execution_count": 1,
   "id": "733292b8",
   "metadata": {},
   "outputs": [],
   "source": [
    "import cv2\n",
    "import numpy as np"
   ]
  },
  {
   "cell_type": "code",
   "execution_count": 2,
   "id": "dea8a340",
   "metadata": {},
   "outputs": [],
   "source": [
    "def histogram_object_detection(target_img, template_hist, threshold):\n",
    "    target_gray = cv2.cvtColor(target_img, cv2.COLOR_BGR2GRAY)\n",
    "    target_hist = cv2.calcHist([target_gray], [0], None, [256], [0, 256])\n",
    "    target_hist = cv2.normalize(target_hist, target_hist, 0, 1, cv2.NORM_MINMAX, -1)\n",
    "    template_hist = cv2.normalize(template_hist, template_hist, 0, 1, cv2.NORM_MINMAX, -1)\n",
    "    match_score = cv2.compareHist(target_hist, template_hist, cv2.HISTCMP_BHATTACHARYYA) \n",
    "    # Threshold match score to determine areas where object is present\n",
    "    if match_score < threshold:\n",
    "        return True\n",
    "    else:\n",
    "        return False"
   ]
  },
  {
   "cell_type": "code",
   "execution_count": 3,
   "id": "c8046dff",
   "metadata": {},
   "outputs": [],
   "source": [
    "target_img = cv2.imread(\"current_frame.jpg\")\n",
    "template_img = cv2.imread(\"car_template.jpg\")"
   ]
  },
  {
   "cell_type": "code",
   "execution_count": 4,
   "id": "f239a64d",
   "metadata": {},
   "outputs": [],
   "source": [
    "template_gray = cv2.cvtColor(template_img, cv2.COLOR_BGR2GRAY)"
   ]
  },
  {
   "cell_type": "code",
   "execution_count": 5,
   "id": "580aed08",
   "metadata": {},
   "outputs": [],
   "source": [
    "template_hist = cv2.calcHist([template_gray], [0], None, [256], [0, 256])"
   ]
  },
  {
   "cell_type": "code",
   "execution_count": 6,
   "id": "5ad70260",
   "metadata": {
    "scrolled": true
   },
   "outputs": [
    {
     "ename": "TypeError",
     "evalue": "histogram_object_detection() missing 1 required positional argument: 'threshold'",
     "output_type": "error",
     "traceback": [
      "\u001b[0;31m---------------------------------------------------------------------------\u001b[0m",
      "\u001b[0;31mTypeError\u001b[0m                                 Traceback (most recent call last)",
      "\u001b[0;32m<ipython-input-6-96029d353430>\u001b[0m in \u001b[0;36m<module>\u001b[0;34m\u001b[0m\n\u001b[0;32m----> 1\u001b[0;31m \u001b[0mmatch_score\u001b[0m \u001b[0;34m=\u001b[0m \u001b[0mhistogram_object_detection\u001b[0m\u001b[0;34m(\u001b[0m\u001b[0mtarget_img\u001b[0m\u001b[0;34m,\u001b[0m \u001b[0mtemplate_hist\u001b[0m\u001b[0;34m)\u001b[0m\u001b[0;34m\u001b[0m\u001b[0;34m\u001b[0m\u001b[0m\n\u001b[0m",
      "\u001b[0;31mTypeError\u001b[0m: histogram_object_detection() missing 1 required positional argument: 'threshold'"
     ]
    }
   ],
   "source": [
    "match_score = histogram_object_detection(target_img, template_hist)"
   ]
  },
  {
   "cell_type": "code",
   "execution_count": 7,
   "id": "4c83658e",
   "metadata": {},
   "outputs": [],
   "source": [
    "threshold = 0.9"
   ]
  },
  {
   "cell_type": "code",
   "execution_count": 8,
   "id": "8980917f",
   "metadata": {},
   "outputs": [],
   "source": [
    "object_detected = histogram_object_detection(target_img, template_hist, threshold)"
   ]
  },
  {
   "cell_type": "code",
   "execution_count": 9,
   "id": "6904cfe8",
   "metadata": {},
   "outputs": [
    {
     "ename": "NameError",
     "evalue": "name 'match_score' is not defined",
     "output_type": "error",
     "traceback": [
      "\u001b[0;31m---------------------------------------------------------------------------\u001b[0m",
      "\u001b[0;31mNameError\u001b[0m                                 Traceback (most recent call last)",
      "\u001b[0;32m<ipython-input-9-8da33f3a0fd5>\u001b[0m in \u001b[0;36m<module>\u001b[0;34m\u001b[0m\n\u001b[0;32m----> 1\u001b[0;31m \u001b[0mprint\u001b[0m\u001b[0;34m(\u001b[0m\u001b[0;34m\"Match Score:\"\u001b[0m\u001b[0;34m,\u001b[0m \u001b[0mmatch_score\u001b[0m\u001b[0;34m)\u001b[0m\u001b[0;34m\u001b[0m\u001b[0;34m\u001b[0m\u001b[0m\n\u001b[0m",
      "\u001b[0;31mNameError\u001b[0m: name 'match_score' is not defined"
     ]
    }
   ],
   "source": [
    "print(\"Match Score:\", match_score)"
   ]
  },
  {
   "cell_type": "code",
   "execution_count": 10,
   "id": "a0d64875",
   "metadata": {},
   "outputs": [],
   "source": [
    "if object_detected:\n",
    "\n",
    "    height, width = target_img.shape[:2]\n",
    "    cv2.rectangle(target_img, (0, 0), (width, height), (0, 255, 0), 2)"
   ]
  },
  {
   "cell_type": "code",
   "execution_count": 11,
   "id": "38cddb11",
   "metadata": {},
   "outputs": [],
   "source": [
    "cv2.imshow(\"Object Detection\", target_img)\n",
    "cv2.waitKey(0)\n",
    "cv2.destroyAllWindows()"
   ]
  },
  {
   "cell_type": "code",
   "execution_count": null,
   "id": "31071d61",
   "metadata": {},
   "outputs": [],
   "source": []
  }
 ],
 "metadata": {
  "kernelspec": {
   "display_name": "Python 3",
   "language": "python",
   "name": "python3"
  },
  "language_info": {
   "codemirror_mode": {
    "name": "ipython",
    "version": 3
   },
   "file_extension": ".py",
   "mimetype": "text/x-python",
   "name": "python",
   "nbconvert_exporter": "python",
   "pygments_lexer": "ipython3",
   "version": "3.7.12"
  }
 },
 "nbformat": 4,
 "nbformat_minor": 5
}
