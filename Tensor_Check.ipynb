{
  "nbformat": 4,
  "nbformat_minor": 0,
  "metadata": {
    "colab": {
      "provenance": [],
      "gpuType": "T4"
    },
    "kernelspec": {
      "name": "python3",
      "display_name": "Python 3"
    },
    "language_info": {
      "name": "python"
    },
    "accelerator": "GPU"
  },
  "cells": [
    {
      "cell_type": "code",
      "execution_count": 1,
      "metadata": {
        "id": "27rvtkpfjOVu"
      },
      "outputs": [],
      "source": [
        "import torch\n",
        "import time"
      ]
    },
    {
      "cell_type": "code",
      "source": [
        "x = torch.tensor([[1,2],[3,4]])"
      ],
      "metadata": {
        "id": "-LRcLYj4jXXx"
      },
      "execution_count": 2,
      "outputs": []
    },
    {
      "cell_type": "code",
      "source": [
        "if torch.cuda.is_available():\n",
        "    device = torch.device(\"cuda\")\n",
        "else:\n",
        "    device = torch.device(\"cpu\")\n",
        "\n",
        "x = x.to(device)\n"
      ],
      "metadata": {
        "id": "Ba3cWckUjcf5"
      },
      "execution_count": 3,
      "outputs": []
    },
    {
      "cell_type": "code",
      "source": [
        "x.device"
      ],
      "metadata": {
        "colab": {
          "base_uri": "https://localhost:8080/"
        },
        "id": "ZjGaxHG7jn_Q",
        "outputId": "d15ba24e-4cc3-40ed-c37e-e316fc1de67e"
      },
      "execution_count": 4,
      "outputs": [
        {
          "output_type": "execute_result",
          "data": {
            "text/plain": [
              "device(type='cuda', index=0)"
            ]
          },
          "metadata": {},
          "execution_count": 4
        }
      ]
    },
    {
      "cell_type": "code",
      "source": [
        "x = torch.tensor([[1, 2], [3, 4]], device=\"cuda\")"
      ],
      "metadata": {
        "id": "d55X7xw3jqOJ"
      },
      "execution_count": 5,
      "outputs": []
    },
    {
      "cell_type": "code",
      "source": [
        "size = 10000\n",
        "x_cpu = torch.randn(size, size)\n",
        "x_gpu = torch.randn(size, size).to(\"cuda\")"
      ],
      "metadata": {
        "id": "m0RT4tj8kEHR"
      },
      "execution_count": 7,
      "outputs": []
    },
    {
      "cell_type": "code",
      "source": [
        "start_time = time.time()\n",
        "result_cpu = torch.matmul(x_cpu, x_cpu)\n",
        "cpu_time = time.time() - start_time"
      ],
      "metadata": {
        "id": "3E6Zgh55kGAA"
      },
      "execution_count": 8,
      "outputs": []
    },
    {
      "cell_type": "code",
      "source": [
        "start_time = time.time()\n",
        "result_gpu = torch.matmul(x_gpu, x_gpu)\n",
        "torch.cuda.synchronize()\n",
        "gpu_time = time.time() - start_time"
      ],
      "metadata": {
        "id": "U3u4SwHPkKpi"
      },
      "execution_count": 9,
      "outputs": []
    },
    {
      "cell_type": "code",
      "source": [
        "print(\"Runtime on CPU: {:.6f} seconds\".format(cpu_time))\n",
        "print(\"Runtime on GPU: {:.6f} seconds\".format(gpu_time))"
      ],
      "metadata": {
        "colab": {
          "base_uri": "https://localhost:8080/"
        },
        "id": "2vVzYMNSkM0h",
        "outputId": "b2d3cec3-c1f5-419d-8d01-7a51cc498f9a"
      },
      "execution_count": 10,
      "outputs": [
        {
          "output_type": "stream",
          "name": "stdout",
          "text": [
            "Runtime on CPU: 28.811691 seconds\n",
            "Runtime on GPU: 0.695786 seconds\n"
          ]
        }
      ]
    },
    {
      "cell_type": "code",
      "source": [
        "x_cpu.device"
      ],
      "metadata": {
        "colab": {
          "base_uri": "https://localhost:8080/"
        },
        "id": "GkgNb6IWkhNM",
        "outputId": "8f409395-e8f8-419a-e796-1a984cc20f61"
      },
      "execution_count": 12,
      "outputs": [
        {
          "output_type": "execute_result",
          "data": {
            "text/plain": [
              "device(type='cpu')"
            ]
          },
          "metadata": {},
          "execution_count": 12
        }
      ]
    },
    {
      "cell_type": "code",
      "source": [
        "x_gpu.device"
      ],
      "metadata": {
        "colab": {
          "base_uri": "https://localhost:8080/"
        },
        "id": "pzKphA9-ki2Q",
        "outputId": "c11a3973-6a58-454f-a2eb-b13f9ebabd2c"
      },
      "execution_count": 13,
      "outputs": [
        {
          "output_type": "execute_result",
          "data": {
            "text/plain": [
              "device(type='cuda', index=0)"
            ]
          },
          "metadata": {},
          "execution_count": 13
        }
      ]
    }
  ]
}